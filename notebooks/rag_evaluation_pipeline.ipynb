{
 "cells": [
  {
   "cell_type": "code",
   "execution_count": 7,
   "id": "b9a753a3-eff4-45c2-8bb7-637d80ca8222",
   "metadata": {},
   "outputs": [],
   "source": [
    "from tqdm.auto import tqdm\n",
    "import pandas as pd\n",
    "from typing import Optional, List, Tuple\n",
    "import json\n",
    "import datasets\n",
    "import glob\n",
    "from langchain_community.document_loaders import PyMuPDFLoader\n",
    "from langchain.text_splitter import CharacterTextSplitter,  RecursiveCharacterTextSplitter\n",
    "from langchain_community.document_loaders import DirectoryLoader\n",
    "pd.set_option(\"display.max_colwidth\", None)"
   ]
  },
  {
   "cell_type": "code",
   "execution_count": 3,
   "id": "32642bd7-9345-4ef2-804e-0ce8dd31f37c",
   "metadata": {},
   "outputs": [],
   "source": [
    "from langchain_community.llms.ollama import Ollama\n",
    "from langchain_core.prompts import PromptTemplate\n",
    "from langchain_core.output_parsers import StrOutputParser\n",
    "from langchain_core.runnables import RunnableParallel"
   ]
  },
  {
   "cell_type": "markdown",
   "id": "981e15e4-00c7-4b14-88ea-568d7d979003",
   "metadata": {},
   "source": [
    "#### Load gemma using Ollama"
   ]
  },
  {
   "cell_type": "code",
   "execution_count": 4,
   "id": "ef9a22a1-70a2-48fa-a872-be912b4dea2b",
   "metadata": {},
   "outputs": [],
   "source": [
    "llm = Ollama(model=\"gemma:2b\")"
   ]
  },
  {
   "cell_type": "markdown",
   "id": "a8611845-e8cc-402d-9e24-0f5c9d78fee8",
   "metadata": {},
   "source": [
    "#### Read PDF and create chunks"
   ]
  },
  {
   "cell_type": "code",
   "execution_count": 9,
   "id": "790bea43-b032-43f3-9584-2d8671b101c1",
   "metadata": {},
   "outputs": [],
   "source": [
    "def get_chunks():\n",
    "    all_files = glob.glob(r\"C:\\Users\\tyagi\\Desktop\\FinanceFusionRAG\\data\\test/*.pdf\")\n",
    "    all_chunk = []\n",
    "    for file_path in all_files:\n",
    "        loader = PyMuPDFLoader(file_path)\n",
    "        doc = loader.load()\n",
    "        text_splitter =  RecursiveCharacterTextSplitter(chunk_size=1000, chunk_overlap=75,separators=[\"\\n\\n\", \"\\n\", \".\", \" \", \"\"])\n",
    "        chunks = text_splitter.split_documents(doc)\n",
    "        all_chunk+=chunks\n",
    "    return all_chunk"
   ]
  },
  {
   "cell_type": "code",
   "execution_count": 10,
   "id": "298b85ef-6fc3-44af-90c5-f1d829bde83e",
   "metadata": {},
   "outputs": [],
   "source": [
    "docs_processed=get_chunks()"
   ]
  },
  {
   "cell_type": "markdown",
   "id": "30bbdd6b-e069-4bbe-ae09-b6b1b39fc30d",
   "metadata": {},
   "source": [
    "#### Create a synthetic dataset for evaluation"
   ]
  },
  {
   "cell_type": "code",
   "execution_count": 17,
   "id": "20c6d14d-f372-4db9-adbb-24f800b96758",
   "metadata": {},
   "outputs": [],
   "source": [
    "QA_generation_prompt = \"\"\"\n",
    "Your task is to write a factoid question and an answer given a context.\n",
    "Your factoid question should be answerable with a specific, concise piece of factual information from the context.\n",
    "Your factoid question should be formulated in the same style as questions users could ask in a search engine.\n",
    "This means that your factoid question MUST NOT mention something like \"according to the passage\" or \"context\".\n",
    "\n",
    "Provide your answer as follows:\n",
    "\n",
    "Output:::\n",
    "Factoid question: (your factoid question)\n",
    "Answer: (your answer to the factoid question)\n",
    "\n",
    "Now here is the context.\n",
    "\n",
    "Context: {context}\\n\n",
    "Output:::\"\"\"\n",
    "\n",
    "def generate_qna(context):\n",
    "    prompt = PromptTemplate.from_template(QA_generation_prompt)\n",
    "    chain = prompt | llm | StrOutputParser() \n",
    "    return chain.invoke({\"context\":context})"
   ]
  },
  {
   "cell_type": "code",
   "execution_count": 12,
   "id": "deaaf1b8-f363-4173-b0bf-2aae877391e6",
   "metadata": {},
   "outputs": [],
   "source": []
  },
  {
   "cell_type": "code",
   "execution_count": 18,
   "id": "98e6cc33-9667-491d-a4b2-f4a6a1a1778e",
   "metadata": {},
   "outputs": [
    {
     "name": "stdout",
     "output_type": "stream",
     "text": [
      "Generating 10 QA couples...\n"
     ]
    },
    {
     "data": {
      "application/vnd.jupyter.widget-view+json": {
       "model_id": "292ee7957bee4349a0252aff485a342a",
       "version_major": 2,
       "version_minor": 0
      },
      "text/plain": [
       "  0%|          | 0/10 [00:00<?, ?it/s]"
      ]
     },
     "metadata": {},
     "output_type": "display_data"
    }
   ],
   "source": [
    "import random\n",
    "\n",
    "N_GENERATIONS = 10  # We intentionally generate only 10 QA couples here for cost and time considerations\n",
    "\n",
    "print(f\"Generating {N_GENERATIONS} QA couples...\")\n",
    "\n",
    "outputs = []\n",
    "for sampled_context in tqdm(random.sample(docs_processed, N_GENERATIONS)):\n",
    "    # Generate QA couple\n",
    "    output_QA_couple = generate_qna(context=sampled_context.page_content)\n",
    "    try:\n",
    "        question = output_QA_couple.split(\"Factoid question: \")[-1].split(\"Answer: \")[0]\n",
    "        answer = output_QA_couple.split(\"Answer: \")[-1]\n",
    "        assert len(answer) < 300, \"Answer is too long\"\n",
    "        outputs.append(\n",
    "            {\n",
    "                \"context\": sampled_context.page_content,\n",
    "                \"question\": question,\n",
    "                \"answer\": answer,\n",
    "                \"source_doc\": sampled_context.metadata[\"source\"],\n",
    "            }\n",
    "        )\n",
    "    except:\n",
    "        continue\n"
   ]
  },
  {
   "cell_type": "code",
   "execution_count": 20,
   "id": "874412a4-4022-4907-b589-1dd33d95d595",
   "metadata": {},
   "outputs": [
    {
     "data": {
      "text/plain": [
       "[{'context': 'lower the cost to borrow. AAA/Aaa ratings are the highest ratings issued by the credit-rating agencies\\nand likely result in the lowest borrowing costs or yields. Investors seeking a better return should look\\ndown the credit-ratings scale for bond issuers with lower ratings and higher yields.',\n",
       "  'question': 'Which credit-rating agency issues AAA/Aaa ratings?\\n\\n',\n",
       "  'answer': 'The context does not specify which credit-rating agency issues AAA/Aaa ratings, so I cannot answer this question from the context.',\n",
       "  'source_doc': 'C:\\\\Users\\\\tyagi\\\\Desktop\\\\FinanceFusionRAG\\\\data\\\\test\\\\Investopedia_A_What_Is_Aaa.pdf'},\n",
       " {'context': \"emerging market to an advanced economy , there is substantial demand for Chinese equity . Stock\\nexchange regulators continue efforts to make A-shares more broadly available to foreign investors and\\nhave them recognized by the global investing community. In June 2017, the MSCI Emerging Markets\\nIndex announced a two-phase plan in which it would gradually add 222 China A large-cap stocks . In\\nMay 2018, the index began to partially include China's large-cap A shares , which make up 5% of the\\nindex. Full inclusion would make up 40% of the index. It is important for countries such as China to\\nopen their markets to global investors to stay competitive and thrive economically. China A-shares\\nprovide an alternative investment for those interested in trading in Chinese securities .\",\n",
       "  'question': 'Which index announced a two-phase plan to add 222 Chinese A-shares to its portfolio?\\n\\n',\n",
       "  'answer': 'MSCI Emerging Markets Index',\n",
       "  'source_doc': 'C:\\\\Users\\\\tyagi\\\\Desktop\\\\FinanceFusionRAG\\\\data\\\\test\\\\Investopedia_A_What_Is_A_Shares.pdf'},\n",
       " {'context': \"to a bond issuer failing to fulfill its obligations, namely failing to make semiannual interest payments or\\nrepay the principal amount when due. AAA ratings are given to government debt and companies’\\ncorporate bonds. The global credit crisis of 2008 resulted in a number of companies losing their AAA\\nrating, most notably General Electric ( GE ). As of August 2023, only two companies held the AAA\\nrating outright: Microsoft ( MSFT ) and Johnson & Johnson ( JNJ ). Apple ( AAPL ) is split, with an Aaa\\nrating by Moody’s and an AA+ (one notch below AAA) from S&P.; Even the United States suffered a\\nratings cut by S&P;, to AA+ in 2011—losing its vaunted AAA status due to political infighting over\\nraising the debt ceiling . Moody’s and Fitch maintained the U.S. at Aaa and AAA ratings, respectively.\\nThat is, until August 2023 when Fitch downgraded the U.S.'s long-term ratings from AAA to AA+. The\",\n",
       "  'question': 'What was the impact of the global credit crisis of 2008 on AAA-rated companies?\\n\\n\\n',\n",
       "  'answer': 'The global credit crisis of 2008 resulted in a number of companies losing their AAA rating, most notably General Electric ( GE ).',\n",
       "  'source_doc': 'C:\\\\Users\\\\tyagi\\\\Desktop\\\\FinanceFusionRAG\\\\data\\\\test\\\\Investopedia_A_What_Is_Aaa.pdf'},\n",
       " {'context': \"the stock of the same company often trades at much higher valuations on the A-shares market than on\\nthe B-shares market. Although foreign investors may now invest in A-shares, there is a monthly\\n20% limit on repatriation of funds to foreign countries. The Shanghai Stock Exchange (SSE) publishes\\nthe key performance index for A-shares, known as the SSE 180 Index . In composing the index, the\\nexchange selects 180 stocks listed on the SSE. The selection is diversified between sector, size, and\\nliquidity to ensure adequate representation. Thus, the index's performance benchmark reflects the\\noverall situation and operation of the Shanghai securities market. History of China A-Shares Since its\\ninception in 1990, including a major reform in 2002, the index has seen great fluctuations. However,\\nit has grown along with the Chinese economy. The years 2015 to 2016 were a particularly difficult\\nperiod, with a 52-week performance of -21.55% as of July 20, 2016. As China grows from an\",\n",
       "  'question': 'What is the percentage limit on repatriation of funds to foreign countries for the SSE 180 Index?\\n\\n',\n",
       "  'answer': '20%',\n",
       "  'source_doc': 'C:\\\\Users\\\\tyagi\\\\Desktop\\\\FinanceFusionRAG\\\\data\\\\test\\\\Investopedia_A_What_Is_A_Shares.pdf'},\n",
       " {'context': '&\\\\textbf{where:}\\\\\\\\ &GR;_A=\\\\text{Growth rate in period A}\\\\\\\\ &GR;_B=\\\\text{Growth rate in period B}\\\\\\\\\\n&GR;_n=\\\\text{Growth rate in period }n\\\\\\\\ &N;=\\\\text{Number of payments}\\\\\\\\ \\\\end{aligned} A A G R = N G\\nR A + G R B + … + G R n where: G R A = Growth rate in period A G R B = Growth rate in period B G R\\nn = Growth rate in period n N = Number of payments Understanding the Average Annual Growth Rate\\n(AAGR) The average annual growth rate helps determine long-term trends. It applies to almost any kind\\nof financial measure including growth rates of profits, revenue, cash flow, expenses, etc. to provide the\\ninvestors with an idea about the direction wherein the company is headed. The ratio tells you your\\naverage annual return. The average annual growth rate is a calculation of the arithmetic mean of a\\nseries of growth rates. AAGR can be calculated for any investment, but it will not include any measure',\n",
       "  'question': '**Factoid question:** What is the average annual growth rate (AAGR)?\\n\\n**Answer:** The average annual growth rate (AAGR) is a calculation of the arithmetic mean of a series of growth rates.',\n",
       "  'answer': '**Factoid question:** What is the average annual growth rate (AAGR)?\\n\\n**Answer:** The average annual growth rate (AAGR) is a calculation of the arithmetic mean of a series of growth rates.',\n",
       "  'source_doc': 'C:\\\\Users\\\\tyagi\\\\Desktop\\\\FinanceFusionRAG\\\\data\\\\test\\\\Investopedia_A_What_Is_Aagr.pdf'},\n",
       " {'context': \"Trending Videos Close this video player What Is an A-B Trust? An A-B trust is a joint trust created by a\\nmarried couple for the purpose of minimizing estate taxes. It is formed with each spouse placing assets\\nin the trust and naming as the final beneficiary any suitable person except the other spouse. The trust\\ngets its name from the fact that it splits into two separate entities when one spouse dies. Trust A is the\\nsurvivor's trust and trust B is the decedent's trust. Key Takeaways An A-B trust is a joint trust created\\nby a married couple; upon one spouse's death, the trust splits into a survivor portion (the A trust) and a\\nbypass portion (the decedent's trust, or B trust). Via the split, the A-B trust effectively minimizes estate\\ntaxes and defers them until after the death of the surviving spouse. The surviving spouse has limited\\ncontrol over the decedent's trust but the terms of the decedent's trust can be set to allow the surviving\",\n",
       "  'question': 'According to the context, what is the purpose of an A-B trust?\\n\\n',\n",
       "  'answer': \"The purpose of an A-B trust is to minimize estate taxes by splitting assets between the surviving spouse and the deceased spouse's estate.\",\n",
       "  'source_doc': 'C:\\\\Users\\\\tyagi\\\\Desktop\\\\FinanceFusionRAG\\\\data\\\\test\\\\Investopedia_A_What_Is_A_B_Trust.pdf'},\n",
       " {'context': '(GDP) Growth As another example, consider the five-year real gross domestic product (GDP) growth\\nfor the United States over the last five years. The U.S. real GDP growth rates for 2018 through 2022\\nwere 0.7%, 1.8%, 3.9%, 7.0%, and 2.6%, respectively. Thus, the AAGR of U.S. real GDP over the last\\nfive years has been 3.2%, or (0.7% + 1.8% + 3.9% + 7.0% + 2.6%) /5. AAGR vs. Compound Annual\\nGrowth Rate AAGR is a linear measure that does not account for the effects of compounding. The\\nabove financial investment example showed that growth over four years averaged 19% per year. The\\naverage annual growth rate is useful for showing trends; however, it can be misleading to analysts\\nbecause it does not accurately depict changing financials. In some instances, it can overestimate the\\ngrowth of an investment. For example, consider an end-of-year value for year 5 of $100,000 for the\\nAAGR example above. The percentage growth rate for year 5 is -50%. The resulting AAGR would be',\n",
       "  'question': 'What was the average annual growth rate of the U.S. real GDP over the last five years?\\n\\n',\n",
       "  'answer': '3.2%',\n",
       "  'source_doc': 'C:\\\\Users\\\\tyagi\\\\Desktop\\\\FinanceFusionRAG\\\\data\\\\test\\\\Investopedia_A_What_Is_Aagr.pdf'},\n",
       " {'context': \"beneficiaries. To circumvent an estate from being subject to such steep taxes, many married couples\\nset up a trust under their last will and testaments called an A-B trust. In the example above, if the\\ncouple instead had an A-B trust, the death of the first spouse would not trigger any estate taxes as a\\nresult of the lifetime exclusion; however, a sum of money equal to the current exemption amount will be\\ntransferred into an irrevocable trust called the bypass trust or B trust. This trust is also known as the\\ndecedent’s trust. The remaining amount, $7.08 million, will be transferred to a survivor’s trust, or A trust,\\nwhich the surviving spouse will have complete control over. The estate tax on the A trust is deferred\\nuntil after the death of the surviving spouse. It's important to note that if the surviving spouse elected\\nportability when the first spouse died, the portion of the first spouse's exemption would pass to the\",\n",
       "  'question': 'What is the purpose of setting up an A-B trust?\\n\\n',\n",
       "  'answer': 'The purpose of setting up an A-B trust is to exempt the death tax on an estate from steep estate taxes, while allowing the surviving spouse to retain control of a specified amount of money.',\n",
       "  'source_doc': 'C:\\\\Users\\\\tyagi\\\\Desktop\\\\FinanceFusionRAG\\\\data\\\\test\\\\Investopedia_A_What_Is_A_B_Trust.pdf'},\n",
       " {'context': \"A-shares were only available for purchase by mainland citizens due to China's restrictions on foreign\\ninvestment. China A-shares are different from B-shares; A-shares are only quoted in RMB, while\\nB-shares are quoted in foreign currencies, such as the U.S. dollar, and are more widely available to\\nforeign investors. China A-Shares vs. B-Shares China A-shares are different from B-shares. A-shares\\nare only quoted in RMB, while B-shares are quoted in foreign currencies, such as the U.S. dollar, and\\nare more widely available to foreign investors. Foreign investors may have difficulty accessing A-shares\\nbecause of Chinese government regulations, and Chinese investors may have difficulty accessing B\\nshares most notably for currency-exchange reasons. Some companies opt to have their stock listed on\\nboth the A-shares and B-shares market. Due to the limited access of Chinese investors to B-shares,\",\n",
       "  'question': \"**Factoid question:**\\n\\nWhat is the reason why Chinese citizens were not able to purchase A-shares?\\n\\n\\n**Answer:**\\n\\nDue to China's restrictions on foreign investment, A-shares were only available for purchase by mainland citizens.\",\n",
       "  'answer': \"**Factoid question:**\\n\\nWhat is the reason why Chinese citizens were not able to purchase A-shares?\\n\\n\\n**Answer:**\\n\\nDue to China's restrictions on foreign investment, A-shares were only available for purchase by mainland citizens.\",\n",
       "  'source_doc': 'C:\\\\Users\\\\tyagi\\\\Desktop\\\\FinanceFusionRAG\\\\data\\\\test\\\\Investopedia_A_What_Is_A_Shares.pdf'}]"
      ]
     },
     "execution_count": 20,
     "metadata": {},
     "output_type": "execute_result"
    }
   ],
   "source": [
    "outputs"
   ]
  },
  {
   "cell_type": "markdown",
   "id": "7cc03b88-27ee-44b2-a6a3-70fa1d8a30cb",
   "metadata": {},
   "source": [
    "#### Setup critique agents to check the quality of generated guestions"
   ]
  },
  {
   "cell_type": "code",
   "execution_count": 19,
   "id": "532fa2b9-513d-4772-83dd-fcb8c7e9467d",
   "metadata": {},
   "outputs": [],
   "source": [
    "#Groundedness"
   ]
  },
  {
   "cell_type": "code",
   "execution_count": null,
   "id": "30eb15c8-7fe9-46a9-82df-b1980c31f4c1",
   "metadata": {},
   "outputs": [],
   "source": [
    "question_groundedness_critique_prompt = \"\"\"\n",
    "You will be given a context and a question.\n",
    "Your task is to provide a 'total rating' scoring how well one can answer the given question unambiguously with the given context.\n",
    "Give your answer on a scale of 1 to 5, where 1 means that the question is not answerable at all given the context, and 5 means that the question is clearly and unambiguously answerable with the context.\n",
    "\n",
    "Provide your answer as follows:\n",
    "\n",
    "Answer:::\n",
    "Evaluation: (your rationale for the rating, as a text)\n",
    "Total rating: (your rating, as a number between 1 and 5)\n",
    "\n",
    "You MUST provide values for 'Evaluation:' and 'Total rating:' in your answer.\n",
    "\n",
    "Now here are the question and context.\n",
    "\n",
    "Question: {question}\\n\n",
    "Context: {context}\\n\n",
    "Answer::: \"\"\""
   ]
  },
  {
   "cell_type": "code",
   "execution_count": null,
   "id": "3e881181-4fc1-4c66-a913-435aa42d4b26",
   "metadata": {},
   "outputs": [],
   "source": [
    "#relevance"
   ]
  },
  {
   "cell_type": "code",
   "execution_count": null,
   "id": "3c6ed1d3-901e-4038-8d1d-383e53c73ce1",
   "metadata": {},
   "outputs": [],
   "source": [
    "question_relevance_critique_prompt = \"\"\"\n",
    "You will be given a question.\n",
    "Your task is to provide a 'total rating' representing how useful this question can be to machine learning developers building NLP applications with the Hugging Face ecosystem.\n",
    "Give your answer on a scale of 1 to 5, where 1 means that the question is not useful at all, and 5 means that the question is extremely useful.\n",
    "\n",
    "Provide your answer as follows:\n",
    "\n",
    "Answer:::\n",
    "Evaluation: (your rationale for the rating, as a text)\n",
    "Total rating: (your rating, as a number between 1 and 5)\n",
    "\n",
    "You MUST provide values for 'Evaluation:' and 'Total rating:' in your answer.\n",
    "\n",
    "Now here is the question.\n",
    "\n",
    "Question: {question}\\n\n",
    "Answer::: \"\"\""
   ]
  },
  {
   "cell_type": "code",
   "execution_count": null,
   "id": "965878db-c41d-4893-a4e6-abcbadc8a69b",
   "metadata": {},
   "outputs": [],
   "source": [
    "#standalone"
   ]
  },
  {
   "cell_type": "code",
   "execution_count": null,
   "id": "ab493fb8-bd74-47cf-91da-a66a1cb63fe7",
   "metadata": {},
   "outputs": [],
   "source": [
    "question_standalone_critique_prompt = \"\"\"\n",
    "You will be given a question.\n",
    "Your task is to provide a 'total rating' representing how context-independant this question is.\n",
    "Give your answer on a scale of 1 to 5, where 1 means that the question depends on additional information to be understood, and 5 means that the question makes sense by itself.\n",
    "For instance, if the question refers to a particular setting, like 'in the context' or 'in the document', the rating must be 1.\n",
    "The questions can contain obscure technical nouns or acronyms like Gradio, Hub, Hugging Face or Space and still be a 5: it must simply be clear to an operator with access to documentation what the question is about.\n",
    "\n",
    "For instance, \"What is the name of the checkpoint from which the ViT model is imported?\" should receive a 1, since there is an implicit mention of a context, thus the question is not independant from the context.\n",
    "\n",
    "Provide your answer as follows:\n",
    "\n",
    "Answer:::\n",
    "Evaluation: (your rationale for the rating, as a text)\n",
    "Total rating: (your rating, as a number between 1 and 5)\n",
    "\n",
    "You MUST provide values for 'Evaluation:' and 'Total rating:' in your answer.\n",
    "\n",
    "Now here is the question.\n",
    "\n",
    "Question: {question}\\n\n",
    "Answer::: \"\"\""
   ]
  },
  {
   "cell_type": "code",
   "execution_count": null,
   "id": "12818848-b61d-4d6c-98e2-482b49ad7b0b",
   "metadata": {},
   "outputs": [],
   "source": []
  },
  {
   "cell_type": "code",
   "execution_count": null,
   "id": "16820cb5-4591-4ed6-bc0c-f79c497de3d6",
   "metadata": {},
   "outputs": [],
   "source": []
  }
 ],
 "metadata": {
  "kernelspec": {
   "display_name": "Python 3 (ipykernel)",
   "language": "python",
   "name": "python3"
  },
  "language_info": {
   "codemirror_mode": {
    "name": "ipython",
    "version": 3
   },
   "file_extension": ".py",
   "mimetype": "text/x-python",
   "name": "python",
   "nbconvert_exporter": "python",
   "pygments_lexer": "ipython3",
   "version": "3.10.0"
  }
 },
 "nbformat": 4,
 "nbformat_minor": 5
}
